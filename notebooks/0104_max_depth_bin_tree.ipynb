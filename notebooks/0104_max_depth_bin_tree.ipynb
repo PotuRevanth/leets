{
  "metadata": {
    "language_info": {
      "name": ""
    },
    "kernelspec": {
      "name": "python",
      "display_name": "Python (Pyodide)",
      "language": "python"
    }
  },
  "nbformat_minor": 4,
  "nbformat": 4,
  "cells": [
    {
      "cell_type": "markdown",
      "source": "# LeetCode #104. Maximum Depth of Binary Tree (Easy)",
      "metadata": {}
    },
    {
      "cell_type": "markdown",
      "source": "---",
      "metadata": {}
    },
    {
      "cell_type": "markdown",
      "source": "**Prompt:** Given the root of a binary tree, return its maximum depth.\n\nA binary tree's maximum depth is the number of nodes along the longest path from the root node down to the farthest leaf node.",
      "metadata": {}
    },
    {
      "cell_type": "code",
      "source": "class TreeNode:\n     def __init__(self, val=0, left=None, right=None):\n         self.val = val\n         self.left = left\n         self.right = right",
      "metadata": {
        "trusted": true
      },
      "execution_count": null,
      "outputs": []
    },
    {
      "cell_type": "markdown",
      "source": "**Example:**",
      "metadata": {}
    },
    {
      "cell_type": "code",
      "source": "root = [3,9,20,null,null,15,7]",
      "metadata": {
        "trusted": true
      },
      "execution_count": null,
      "outputs": []
    },
    {
      "cell_type": "markdown",
      "source": "The approach I chose was recursion. The two base cases I accounted for are:\n1. If the current node is NULL because then we would get an error if calling the left or right attributes of a NULL value\n2. If the current node is a leaf, defined as left **AND** right children are NULL\n\nHere is my first iteration after speaking through the logic with Flo.\nThis solution has a **runtime of 42ms** and a **memory of 16 MB**. Takes O(N) time",
      "metadata": {}
    },
    {
      "cell_type": "code",
      "source": "class Solution:\n    def maxDepth(self, root: Optional[TreeNode]) -> int:\n\n        # accounting for case where binary tree is null\n        if not root:\n            return 0\n        # base case: leaf is found, which means that left and right are NULL\n        elif not root.left and not root.right:\n            # end level\n            return 1\n        \n        # keep track of level and then traverse tree, but only add largest between left and right\n        return 1 + max(self.maxDepth(root.left),self.maxDepth(root.right))",
      "metadata": {
        "trusted": true
      },
      "execution_count": null,
      "outputs": []
    },
    {
      "cell_type": "code",
      "source": "output = maxDepth(root)\nprint output",
      "metadata": {
        "trusted": true
      },
      "execution_count": null,
      "outputs": []
    },
    {
      "cell_type": "markdown",
      "source": "I liked how simple and clean the code was, but realized that the code can be further simplified by deleting the second \"base case\" when a leaf is found because while it would take one more recursive stack, the leaf would be caught by the first \"base case\"\n\nHere is the second solution with one less \"if\" statement. This solution has a **runtime of 43ms** and a **memory of 16.2MB**, which confirms my hypothesis that with one less \"if\" statement, this function will have to go one step farther for each leaf of the tree.",
      "metadata": {}
    },
    {
      "cell_type": "code",
      "source": "class Solution:\n    def maxDepth(self, root: Optional[TreeNode]) -> int:\n\n        # accounting for case where binary tree is null\n        if not root:\n            return 0\n        \n        # keep track of level and then traverse tree, but only add largest between left and right\n        return 1 + max(self.maxDepth(root.left),self.maxDepth(root.right))",
      "metadata": {
        "trusted": true
      },
      "execution_count": null,
      "outputs": []
    }
  ]
}